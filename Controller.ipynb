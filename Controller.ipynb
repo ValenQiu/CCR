{
 "cells": [
  {
   "cell_type": "code",
   "execution_count": 111,
   "id": "3dc4bb5d",
   "metadata": {},
   "outputs": [],
   "source": [
    "import numpy as np\n",
    "import math\n",
    "\n",
    "# parameters\n",
    "L = 0.5  # Length (before strain)\n",
    "N = 50  # Spatial resolution\n",
    "E = 207e9  # Young's modulus\n",
    "r = 0.001  # Cross-section radius\n",
    "rt1 = np.matrix([[0.02], [0], [0]])\n",
    "rt2 = np.matrix([[-0.02], [0], [0]])\n",
    "rho = 8000  # Density\n",
    "g = [-9.81, 0, 0]  # Gravity\n",
    "Bse = np.zeros(3)  # Material damping coefficients - shear and extension\n",
    "Bbt = 1e-2 * np.eye(3)  # Material damping coefficients - bending and torsion\n",
    "C = 0.1 * np.eye(3)\n",
    "dt = 0.04  # Time step\n",
    "alpha = -0.2  # BDF-alpha parameter\n",
    "STEPS = 202  # Number of timesteps to completion\n",
    "vstar = np.matrix([0, 0, 1])  # Value of v when static and absent loading\n",
    "ustar = [0, 0, 0]  # Precurvature\n",
    "vsstar = [0, 0, 0]\n",
    "usstar = [0, 0, 0]\n",
    "    \n",
    "# Boundary Conditions\n",
    "p = np.zeros((STEPS, N), dtype=object)\n",
    "R = np.zeros((STEPS, N), dtype=object)\n",
    "q = np.zeros((STEPS, N), dtype=object)\n",
    "w = np.zeros((STEPS, N), dtype=object)\n",
    "# global p, R, q, w\n",
    "for i in range(STEPS):    # from 1 to STEPS\n",
    "    p[i][0] = np.array([0, 0, 0])\n",
    "    R[i][0] = np.eye(3)\n",
    "    q[i][0] = np.array([0, 0, 0])\n",
    "    w[i][0] = np.array([0, 0, 0])\n",
    "    \n",
    "nL = [0, 0, 0]\n",
    "mL = [0, 0, 0]\n",
    "\n",
    "# Dependent Parameter Calculations\n",
    "A = math.pi*r**2    # Cross-sectional area\n",
    "J = np.diag([math.pi*r**4, math.pi*r**4/4, math.pi*r**4/2])  # Inertia\n",
    "G = 80e9    # shear modulus\n",
    "Kse = np.matrix(np.diag([G*A, G*A, E*A]))   # Stiffness matrix - shear and extension\n",
    "Kbt = np.diag([E*J[0, 0], E*J[1, 1], G*J[2, 2]])    # Stiffness matrix - bending and torsion\n",
    "ds = L/(N-1)    # Grid distance (before strain)\n",
    "c0 = (1.5 + alpha) / ( dt*(1+alpha) )   # BDF-alpha coefficients\n",
    "c1 = -2 / dt\n",
    "c2 = (0.5 + alpha) / (dt * (1 + alpha))\n",
    "d1 = alpha / (1 + alpha)\n"
   ]
  },
  {
   "cell_type": "code",
   "execution_count": 137,
   "id": "ab30e414",
   "metadata": {},
   "outputs": [],
   "source": [
    "def hat(y_in):\n",
    "    y = np.matrix([[0, -y_in[2], y_in[1]],\n",
    "                [y_in[2], 0, -y_in[0]],\n",
    "                [y_in[1], y_in[0], 0]])\n",
    "    return y"
   ]
  },
  {
   "cell_type": "code",
   "execution_count": 59,
   "id": "064e8dc0",
   "metadata": {},
   "outputs": [],
   "source": [
    "from scipy.optimize import fsolve\n",
    "\n",
    "# Main Simulation\n",
    "i = 1\n",
    "# fsolve(staticIVP, np.zeros(6))\n",
    "# applyStaticBDFalpha()"
   ]
  },
  {
   "cell_type": "code",
   "execution_count": 151,
   "id": "1b57bb93",
   "metadata": {},
   "outputs": [],
   "source": [
    "def dynamicODF(p, r, n, m, q, w):\n",
    "    i=1"
   ]
  },
  {
   "cell_type": "code",
   "execution_count": 140,
   "id": "222e384d",
   "metadata": {},
   "outputs": [],
   "source": [
    "def staticODE(p, R, n, m, j):\n",
    "    Rt = np.transpose(R)\n",
    "    \n",
    "    # v = Kse\\ R' * n + vstar[ds*(j-1)]\n",
    "    inv_Kse = np.linalg.inv(Kse)\n",
    "    v = np.dot(inv_Kse, Rt * n + vstar)\n",
    "    \n",
    "    # u = Kbt\\R'*m + ustar(ds*(j-1))      \n",
    "    inv_Kbt = np.linalg.inv(Kbt + c0 * Bbt)\n",
    "    u = np.dot(inv_Kbt, Rt*m + ustar)\n",
    "    \n",
    "    \n",
    "    ptsb = np.matrix(hat(u)*rt1+v)\n",
    "    print(ptsb)\n",
    "    Tt = 0\n",
    "    At = -Tt/np.linalg.norm(ptsb)**3*hat(ptsb)*hat(ptsb)\n",
    "    B = hat(rt1)*At\n",
    "    Gt = -At*hat(rt1)\n",
    "    H =-B*hat(rt1)\n",
    "    a = At*(hat(u)*ptsb)\n",
    "    b = hat(rt1)*a\n",
    "\n",
    "    fe=0*rho*A*g\n",
    "    d = Kse*vsstar(ds*(j-1))-hat(u)*Kse*(v-vstar)-a-Rt*fe\n",
    "    c = Kbt*usstar(ds*(j-1))-hat(u)*Kbt*(u-ustar)-hat(v)*Kse*(v-vstar(ds*(j-1)))-b\n",
    "\n",
    "\n",
    "    Mat = [[Kse+At,Gt],[B,Kbt+H]]\n",
    "    vs = 1/det(Mat)*((Kbt+H)*d-Gt*c)\n",
    "    us = 1/det(Mat)*(-B*d+(Kse+At)*c)\n",
    "\n",
    "\n",
    "    ps = R*v\n",
    "    Rs = R*hat(u)\n",
    "    ns = [0, 0, 0]\n",
    "    ns = -fe\n",
    "    ms = -hat(ps)*n\n",
    "    \n",
    "    return ps, Rs, ns, ms, vs, us, v, u"
   ]
  },
  {
   "cell_type": "code",
   "execution_count": 124,
   "id": "7c442f8b",
   "metadata": {},
   "outputs": [],
   "source": [
    "def staticIVP(G,i):\n",
    "    n, m = np.zeros((3, 1), dtype=object), np.zeros((3, 1), dtype=object)\n",
    "    n[i-1][0] = G[0:2]\n",
    "    m[i-1][0] = G[3:5]\n",
    "    \n",
    "    # Euler's method\n",
    "    for j in range (0, N-2):\n",
    "        ps, Rs, ns, ms, vs, us, v, u = staticODE(p[i][j], R[i][j], n[i][j], m[i][j], j)\n",
    "        p[i][j+1] = p[i][j] + ds * ps\n",
    "        R[i][j+1] = R[i][j] + ds * Rs\n",
    "        n[i][j+1] = n[i][j] + ds * ns\n",
    "        m[i][j+1] = m[i][j] + ds * ms\n",
    "    E = [n[i][N]-nL, m[i][N]-mL]\n",
    "    print(E)\n",
    "    return E"
   ]
  },
  {
   "cell_type": "code",
   "execution_count": 125,
   "id": "d0d97145",
   "metadata": {},
   "outputs": [],
   "source": [
    "def find_tension():\n",
    "    t = (i - 2) * dt\n",
    "\n",
    "    P_desire = [0.25 * (1 - math.exp(-2 * t)), 0, 0]\n",
    "    Pd_desire = [0.25 * (2 * math.exp(-2 * t)), 0, 0]\n",
    "    Pdd_desire = [0.25 * (-4 * math.exp(-2 * t)), 0, 0]\n",
    "\n",
    "    p_dot1 = R[i - 1][N - 1] * (hat(u[i - 1][N - 1]) * rt1 + v[i - 1][N - 1])\n",
    "    p_ddot1 = R[i - 1][N - 1] * (hat(u[i - 1][N - 1]) * (hat(u[i - 1][N - 1]) * rt1 + v[i - 1][N - 1]) + hat(\n",
    "    us[i - 1][N - 1]) * rt1 + vs[i - 1, N - 1])\n",
    "\n",
    "    alph1 = (hat(p_dot1) * hat(p_dot1) * p_ddot1) / (norm(p_dot1) ^ 3)\n",
    "    alph11 = (p_dot1) / (norm(p_dot1))\n",
    "\n",
    "    alphM = alph1 + alph11\n",
    "\n",
    "    ac = (ns + rho * A * g - R[i - 1][N - 1] * C * q[i - 1][N - 1] * abs(q[i - 1][N - 1])) / (rho * A)\n",
    "    bc = -(alphM) / (rho * A)\n",
    "\n",
    "    X_end = p[i - 1][N]\n",
    "    Xd_end = (R[i - 1][N] * q[i - 1][N])\n",
    "\n",
    "    alpa1 = 64.7\n",
    "    alpa2 = 10\n",
    "\n",
    "    Z1 = P_desire - X_end\n",
    "    Z2 = Xd_end - Pd_desire - alpa1 * Z1\n",
    "\n",
    "    bc_divide = Z1 - ac - alpa1 * (Z2 + alpa1 * Z1) - alpa2 * Z2 + Pdd_desire\n",
    "    TT = np.linalg.lstsq(bc, bc_divide)\n",
    "\n",
    "    if TT > 87:\n",
    "        TT = 87  # fsolve can be solved in this condition\n",
    "\n",
    "    e = P_desire - X_end\n",
    "    e_dot = Pd_desire - Xd_end\n",
    "\n",
    "    return TT"
   ]
  },
  {
   "cell_type": "markdown",
   "id": "01fc6c94",
   "metadata": {},
   "source": [
    "# Testing"
   ]
  },
  {
   "cell_type": "code",
   "execution_count": 147,
   "id": "e67e0ee5",
   "metadata": {
    "scrolled": true
   },
   "outputs": [
    {
     "name": "stdout",
     "output_type": "stream",
     "text": [
      "1\n",
      "[[array([[0.],\n",
      "         [0.],\n",
      "         [0.]]) array([[0.],\n",
      "                       [0.],\n",
      "                       [0.]]) array([[3.97887358e-06],\n",
      "                                     [3.97887358e-06],\n",
      "                                     [3.97887358e-06]])]\n",
      " [array([[0.],\n",
      "         [0.],\n",
      "         [0.]]) array([[0.],\n",
      "                       [0.],\n",
      "                       [0.]]) array([[3.97887358e-06],\n",
      "                                     [3.97887358e-06],\n",
      "                                     [3.97887358e-06]])]\n",
      " [array([[0.],\n",
      "         [0.],\n",
      "         [0.]]) array([[0.],\n",
      "                       [0.],\n",
      "                       [0.]]) array([[1.53772892e-06],\n",
      "                                     [1.53772892e-06],\n",
      "                                     [1.53772892e-06]])]]\n"
     ]
    },
    {
     "ename": "ValueError",
     "evalue": "shapes (3,1) and (3,3) not aligned: 1 (dim 1) != 3 (dim 0)",
     "output_type": "error",
     "traceback": [
      "\u001b[0;31m---------------------------------------------------------------------------\u001b[0m",
      "\u001b[0;31mValueError\u001b[0m                                Traceback (most recent call last)",
      "Input \u001b[0;32mIn [147]\u001b[0m, in \u001b[0;36m<cell line: 4>\u001b[0;34m()\u001b[0m\n\u001b[1;32m      2\u001b[0m \u001b[38;5;28mprint\u001b[39m(i)\n\u001b[1;32m      3\u001b[0m i\u001b[38;5;241m=\u001b[39m\u001b[38;5;241m1\u001b[39m\n\u001b[0;32m----> 4\u001b[0m E \u001b[38;5;241m=\u001b[39m \u001b[43mstaticIVP\u001b[49m\u001b[43m(\u001b[49m\u001b[43mG\u001b[49m\u001b[43m,\u001b[49m\u001b[43mi\u001b[49m\u001b[43m)\u001b[49m\n",
      "Input \u001b[0;32mIn [124]\u001b[0m, in \u001b[0;36mstaticIVP\u001b[0;34m(G, i)\u001b[0m\n\u001b[1;32m      6\u001b[0m \u001b[38;5;66;03m# Euler's method\u001b[39;00m\n\u001b[1;32m      7\u001b[0m \u001b[38;5;28;01mfor\u001b[39;00m j \u001b[38;5;129;01min\u001b[39;00m \u001b[38;5;28mrange\u001b[39m (\u001b[38;5;241m0\u001b[39m, N\u001b[38;5;241m-\u001b[39m\u001b[38;5;241m2\u001b[39m):\n\u001b[0;32m----> 8\u001b[0m     ps, Rs, ns, ms, vs, us, v, u \u001b[38;5;241m=\u001b[39m \u001b[43mstaticODE\u001b[49m\u001b[43m(\u001b[49m\u001b[43mp\u001b[49m\u001b[43m[\u001b[49m\u001b[43mi\u001b[49m\u001b[43m]\u001b[49m\u001b[43m[\u001b[49m\u001b[43mj\u001b[49m\u001b[43m]\u001b[49m\u001b[43m,\u001b[49m\u001b[43m \u001b[49m\u001b[43mR\u001b[49m\u001b[43m[\u001b[49m\u001b[43mi\u001b[49m\u001b[43m]\u001b[49m\u001b[43m[\u001b[49m\u001b[43mj\u001b[49m\u001b[43m]\u001b[49m\u001b[43m,\u001b[49m\u001b[43m \u001b[49m\u001b[43mn\u001b[49m\u001b[43m[\u001b[49m\u001b[43mi\u001b[49m\u001b[43m]\u001b[49m\u001b[43m[\u001b[49m\u001b[43mj\u001b[49m\u001b[43m]\u001b[49m\u001b[43m,\u001b[49m\u001b[43m \u001b[49m\u001b[43mm\u001b[49m\u001b[43m[\u001b[49m\u001b[43mi\u001b[49m\u001b[43m]\u001b[49m\u001b[43m[\u001b[49m\u001b[43mj\u001b[49m\u001b[43m]\u001b[49m\u001b[43m,\u001b[49m\u001b[43m \u001b[49m\u001b[43mj\u001b[49m\u001b[43m)\u001b[49m\n\u001b[1;32m      9\u001b[0m     p[i][j\u001b[38;5;241m+\u001b[39m\u001b[38;5;241m1\u001b[39m] \u001b[38;5;241m=\u001b[39m p[i][j] \u001b[38;5;241m+\u001b[39m ds \u001b[38;5;241m*\u001b[39m ps\n\u001b[1;32m     10\u001b[0m     R[i][j\u001b[38;5;241m+\u001b[39m\u001b[38;5;241m1\u001b[39m] \u001b[38;5;241m=\u001b[39m R[i][j] \u001b[38;5;241m+\u001b[39m ds \u001b[38;5;241m*\u001b[39m Rs\n",
      "Input \u001b[0;32mIn [140]\u001b[0m, in \u001b[0;36mstaticODE\u001b[0;34m(p, R, n, m, j)\u001b[0m\n\u001b[1;32m     14\u001b[0m \u001b[38;5;28mprint\u001b[39m(ptsb)\n\u001b[1;32m     15\u001b[0m Tt \u001b[38;5;241m=\u001b[39m \u001b[38;5;241m0\u001b[39m\n\u001b[0;32m---> 16\u001b[0m At \u001b[38;5;241m=\u001b[39m \u001b[38;5;241;43m-\u001b[39;49m\u001b[43mTt\u001b[49m\u001b[38;5;241;43m/\u001b[39;49m\u001b[43mnp\u001b[49m\u001b[38;5;241;43m.\u001b[39;49m\u001b[43mlinalg\u001b[49m\u001b[38;5;241;43m.\u001b[39;49m\u001b[43mnorm\u001b[49m\u001b[43m(\u001b[49m\u001b[43mptsb\u001b[49m\u001b[43m)\u001b[49m\u001b[38;5;241;43m*\u001b[39;49m\u001b[38;5;241;43m*\u001b[39;49m\u001b[38;5;241;43m3\u001b[39;49m\u001b[38;5;241;43m*\u001b[39;49m\u001b[43mhat\u001b[49m\u001b[43m(\u001b[49m\u001b[43mptsb\u001b[49m\u001b[43m)\u001b[49m\u001b[38;5;241m*\u001b[39mhat(ptsb)\n\u001b[1;32m     17\u001b[0m B \u001b[38;5;241m=\u001b[39m hat(rt1)\u001b[38;5;241m*\u001b[39mAt\n\u001b[1;32m     18\u001b[0m Gt \u001b[38;5;241m=\u001b[39m \u001b[38;5;241m-\u001b[39mAt\u001b[38;5;241m*\u001b[39mhat(rt1)\n",
      "File \u001b[0;32m~/Works/Anaconda3/anaconda3/lib/python3.9/site-packages/numpy/matrixlib/defmatrix.py:224\u001b[0m, in \u001b[0;36mmatrix.__rmul__\u001b[0;34m(self, other)\u001b[0m\n\u001b[1;32m    223\u001b[0m \u001b[38;5;28;01mdef\u001b[39;00m \u001b[38;5;21m__rmul__\u001b[39m(\u001b[38;5;28mself\u001b[39m, other):\n\u001b[0;32m--> 224\u001b[0m     \u001b[38;5;28;01mreturn\u001b[39;00m \u001b[43mN\u001b[49m\u001b[38;5;241;43m.\u001b[39;49m\u001b[43mdot\u001b[49m\u001b[43m(\u001b[49m\u001b[43mother\u001b[49m\u001b[43m,\u001b[49m\u001b[43m \u001b[49m\u001b[38;5;28;43mself\u001b[39;49m\u001b[43m)\u001b[49m\n",
      "File \u001b[0;32m<__array_function__ internals>:5\u001b[0m, in \u001b[0;36mdot\u001b[0;34m(*args, **kwargs)\u001b[0m\n",
      "\u001b[0;31mValueError\u001b[0m: shapes (3,1) and (3,3) not aligned: 1 (dim 1) != 3 (dim 0)"
     ]
    }
   ],
   "source": [
    "G = [0.1490, 0, 0, 0, 0, 0]\n",
    "print(i)\n",
    "i=1\n",
    "E = staticIVP(G,i)"
   ]
  },
  {
   "cell_type": "code",
   "execution_count": null,
   "id": "307f2b33",
   "metadata": {},
   "outputs": [],
   "source": [
    "ptsb = np.array([[0], [0], [1]])\n",
    "print (hat(ptsb))\n",
    "\n",
    "print (hat(ptsb)*hat(ptsb))"
   ]
  },
  {
   "cell_type": "code",
   "execution_count": 146,
   "id": "99ecc5d9",
   "metadata": {},
   "outputs": [
    {
     "name": "stdout",
     "output_type": "stream",
     "text": [
      "[[array([[0.]]) array([[0.]]) array([[0.]])]\n",
      " [array([[0.]]) array([[0.]]) array([[0.]])]\n",
      " [array([[0.]]) array([[0.]]) array([[0.]])]]\n"
     ]
    }
   ],
   "source": [
    "Tt = 0\n",
    "ptsb = np.array([[0], [0], [1]])\n",
    "At = -Tt/np.linalg.norm(ptsb)**3*hat(ptsb)*hat(ptsb)\n",
    "print(At)"
   ]
  },
  {
   "cell_type": "code",
   "execution_count": null,
   "id": "ec921a6d",
   "metadata": {},
   "outputs": [],
   "source": [
    "rt1 = [[0.2],[0],[0]]\n"
   ]
  }
 ],
 "metadata": {
  "kernelspec": {
   "display_name": "Python 3 (ipykernel)",
   "language": "python",
   "name": "python3"
  },
  "language_info": {
   "codemirror_mode": {
    "name": "ipython",
    "version": 3
   },
   "file_extension": ".py",
   "mimetype": "text/x-python",
   "name": "python",
   "nbconvert_exporter": "python",
   "pygments_lexer": "ipython3",
   "version": "3.9.12"
  }
 },
 "nbformat": 4,
 "nbformat_minor": 5
}
